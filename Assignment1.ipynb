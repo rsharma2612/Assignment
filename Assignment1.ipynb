{
 "cells": [
  {
   "cell_type": "code",
   "execution_count": null,
   "id": "f5c09f6e-9a80-43a0-a37b-f7a2b5b64d2c",
   "metadata": {},
   "outputs": [],
   "source": [
    "1. Who developed Python Programming Language? \n",
    "\n",
    "Answer 1. Python was created by Guido van Rossum, and first released on February 20, 1991."
   ]
  },
  {
   "cell_type": "code",
   "execution_count": null,
   "id": "111602a0-22a0-4116-8ba0-19fb542da7b3",
   "metadata": {},
   "outputs": [],
   "source": [
    "2. Which type of Programming does Python support? \n",
    "\n",
    "Answer 2. Python is an interpreted programming language, supporting object-oriented, structured, and functional programming."
   ]
  },
  {
   "cell_type": "code",
   "execution_count": null,
   "id": "4548ae36-2b81-48b2-a1f6-26ec747ffb67",
   "metadata": {},
   "outputs": [],
   "source": [
    "3. Is Python case sensitive when dealing with identifiers? \n",
    "\n",
    "Answer 3. Yes, it is case sensitive."
   ]
  },
  {
   "cell_type": "code",
   "execution_count": null,
   "id": "6eee323b-c16e-44e7-85cb-13a326fd30e7",
   "metadata": {},
   "outputs": [],
   "source": [
    "4. What is the correct extension of the Python file? \n",
    "\n",
    "Answer 4. .py"
   ]
  },
  {
   "cell_type": "code",
   "execution_count": null,
   "id": "a03d6c54-6d84-4b85-9053-bdec21ff6118",
   "metadata": {},
   "outputs": [],
   "source": [
    "5. Is Python code compiled or interpreted? \n",
    "\n",
    "Answer 5. Python is both compiled as well as an interpreted language, which means when we run a python code, it is first compiled and then interpreted line by line."
   ]
  },
  {
   "cell_type": "code",
   "execution_count": null,
   "id": "bb5bcaa0-33da-4403-afd4-40b4434b8712",
   "metadata": {},
   "outputs": [],
   "source": [
    "6. Name a few blocks of code used to define in Python language? \n",
    "\n",
    "Answer 6. Few blocks are a module, a function body, and a class definition."
   ]
  },
  {
   "cell_type": "code",
   "execution_count": null,
   "id": "854cec27-ee03-4df0-8bad-3f90871d5d1f",
   "metadata": {},
   "outputs": [],
   "source": [
    "7. State a character used to give single-line comments in Python? \n",
    "\n",
    "Answer 7.  By adding a single # character before any statement or line of code."
   ]
  },
  {
   "cell_type": "code",
   "execution_count": null,
   "id": "862ee4f1-adc1-438d-9b34-17b217ce57b8",
   "metadata": {},
   "outputs": [],
   "source": [
    "8. Mention functions which can help us to find the version of python that we are currently working on? \n",
    "\n",
    "Answer 8. The function sys.version can help us to find the version of python that we are currently working on."
   ]
  },
  {
   "cell_type": "code",
   "execution_count": null,
   "id": "2a617198-5c94-4956-8cdd-3b0c69e16bfd",
   "metadata": {},
   "outputs": [],
   "source": [
    "9. Python supports the creation of anonymous functions at runtime, using a construct called \n",
    "\n",
    "______lambda__________."
   ]
  },
  {
   "cell_type": "code",
   "execution_count": null,
   "id": "ba22683b-b341-4f7e-8d08-4d76ff0c3956",
   "metadata": {},
   "outputs": [],
   "source": [
    "10. What does pip stand for python? \n",
    "\n",
    "Answer 10. pip stands for Python installing  packages."
   ]
  },
  {
   "cell_type": "code",
   "execution_count": null,
   "id": "49ae5b66-a46e-445b-adb8-269c847d7f06",
   "metadata": {},
   "outputs": [],
   "source": [
    "11. Mention a few built-in functions in python? \n",
    "\n",
    "Answer 11. Few built-in functions in python are as follows:\n",
    "           type(), float(), dir(), len(), and input()."
   ]
  },
  {
   "cell_type": "code",
   "execution_count": null,
   "id": "fd6fbee2-1364-481e-8c49-dc00b983c905",
   "metadata": {},
   "outputs": [],
   "source": [
    "12. What is the maximum possible length of an identifier in Python? \n",
    "\n",
    "Answer 12. An identifier can have a maximum length of 79 characters in Python."
   ]
  },
  {
   "cell_type": "code",
   "execution_count": null,
   "id": "2d9188d2-1051-41ce-a017-d916bff2cc13",
   "metadata": {},
   "outputs": [],
   "source": [
    "13. What are the benefits of using Python? \n",
    "\n",
    "Answer 13. Fews benifits of python are as follows:\n",
    "a. Presence of third-party modules.\n",
    "b. Extensive support libraries.\n",
    "c. Open source and large active community base.\n",
    "d. Industries adopted.\n",
    "e. High-level language"
   ]
  },
  {
   "cell_type": "code",
   "execution_count": null,
   "id": "3493ae1b-da35-4bcd-bbce-d2d0d6207050",
   "metadata": {},
   "outputs": [],
   "source": [
    "14. How is memory managed in Python? \n",
    "\n",
    "Answer 14. Memory in Python is managed by Python private heap space. All Python objects and data structures are located in a private heap. \n",
    "           This private heap is taken care of by Python Interpreter itself, and a programmer doesn't have access to this private heap."
   ]
  },
  {
   "cell_type": "code",
   "execution_count": null,
   "id": "6af62974-a085-4623-9ebc-c4c17d83c8bc",
   "metadata": {},
   "outputs": [],
   "source": [
    "15. How to install Python on Windows and set path variables? \n",
    "\n",
    "Answer 15. Open a browser to the Python website and download the Windows installer. Double click on the downloaded file and install Python for all users.\n",
    "           To set this variable from the Command Prompt, use: set PYTHONPATH=list;of;paths . \n",
    "           To set this variable from PowerShell, use: $env:PYTHONPATH='list;of;paths' just before you launch Python. "
   ]
  },
  {
   "cell_type": "code",
   "execution_count": null,
   "id": "471124bc-8813-480a-a500-80525de08a8f",
   "metadata": {},
   "outputs": [],
   "source": [
    "16. Is indentation required in python? \n",
    "\n",
    "Answer 16. Yes, indentation is must in python."
   ]
  }
 ],
 "metadata": {
  "kernelspec": {
   "display_name": "Python 3 (ipykernel)",
   "language": "python",
   "name": "python3"
  },
  "language_info": {
   "codemirror_mode": {
    "name": "ipython",
    "version": 3
   },
   "file_extension": ".py",
   "mimetype": "text/x-python",
   "name": "python",
   "nbconvert_exporter": "python",
   "pygments_lexer": "ipython3",
   "version": "3.10.8"
  }
 },
 "nbformat": 4,
 "nbformat_minor": 5
}
